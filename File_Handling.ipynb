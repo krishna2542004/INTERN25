{
  "nbformat": 4,
  "nbformat_minor": 0,
  "metadata": {
    "colab": {
      "provenance": [],
      "authorship_tag": "ABX9TyPDA6yZIF5wtcz7KiAudxqv",
      "include_colab_link": true
    },
    "kernelspec": {
      "name": "python3",
      "display_name": "Python 3"
    },
    "language_info": {
      "name": "python"
    }
  },
  "cells": [
    {
      "cell_type": "markdown",
      "metadata": {
        "id": "view-in-github",
        "colab_type": "text"
      },
      "source": [
        "<a href=\"https://colab.research.google.com/github/krishna2542004/INTERN25/blob/main/File_Handling.ipynb\" target=\"_parent\"><img src=\"https://colab.research.google.com/assets/colab-badge.svg\" alt=\"Open In Colab\"/></a>"
      ]
    },
    {
      "cell_type": "code",
      "execution_count": 1,
      "metadata": {
        "colab": {
          "base_uri": "https://localhost:8080/"
        },
        "id": "G0YvGpUOrH9D",
        "outputId": "5de6eb4b-d9df-44ed-df3f-46b9eacfd62a"
      },
      "outputs": [
        {
          "output_type": "stream",
          "name": "stdout",
          "text": [
            "Lines containing 'Python':\n",
            "Python is simple to use.\n",
            "Python is used for web development.\n",
            "Python is a popular programming language.\n",
            "\n",
            "Final content of 'notes.txt':\n",
            "Python is simple to use.\n",
            "Python is used for web development.\n",
            "Python is a popular programming language.\n",
            "Appending a new line using Python.\n",
            "\n"
          ]
        }
      ],
      "source": [
        "# Create and write 3 lines to 'notes.txt'\n",
        "with open('notes.txt', 'w') as file:\n",
        "    file.write(\"Python is simple to use.\\n\")\n",
        "    file.write(\"Python is used for web development.\\n\")\n",
        "    file.write(\"Python is a popular programming language.\\n\")\n",
        "\n",
        "# Read line by line and print only lines containing 'Python'\n",
        "with open('notes.txt', 'r') as file:\n",
        "    print(\"Lines containing 'Python':\")\n",
        "    for line in file:\n",
        "        if 'Python' in line:\n",
        "            print(line.strip())\n",
        "\n",
        "# Append one new line\n",
        "with open('notes.txt', 'a') as file:\n",
        "    file.write(\"Appending a new line using Python.\\n\")\n",
        "\n",
        "# Display the final content\n",
        "with open('notes.txt', 'r') as file:\n",
        "    print(\"\\nFinal content of 'notes.txt':\")\n",
        "    print(file.read())\n"
      ]
    }
  ]
}