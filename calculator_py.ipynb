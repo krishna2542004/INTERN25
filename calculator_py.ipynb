{
  "nbformat": 4,
  "nbformat_minor": 0,
  "metadata": {
    "colab": {
      "provenance": [],
      "toc_visible": true,
      "authorship_tag": "ABX9TyNYKmFF0kAafqRQlMM8f5/x",
      "include_colab_link": true
    },
    "kernelspec": {
      "name": "python3",
      "display_name": "Python 3"
    },
    "language_info": {
      "name": "python"
    }
  },
  "cells": [
    {
      "cell_type": "markdown",
      "metadata": {
        "id": "view-in-github",
        "colab_type": "text"
      },
      "source": [
        "<a href=\"https://colab.research.google.com/github/krishna2542004/INTERN25/blob/main/calculator_py.ipynb\" target=\"_parent\"><img src=\"https://colab.research.google.com/assets/colab-badge.svg\" alt=\"Open In Colab\"/></a>"
      ]
    },
    {
      "cell_type": "code",
      "execution_count": null,
      "metadata": {
        "id": "Lktot05WCOQL"
      },
      "outputs": [],
      "source": [
        "    # calculator.py\n",
        "\n",
        "    def add(x, y):\n",
        "        return x + y\n",
        "\n",
        "    def subtract(x, y):\n",
        "        return x - y\n",
        "\n",
        "    def multiply(x, y):\n",
        "        return x * y\n",
        "\n",
        "    def divide(x, y):\n",
        "        if y == 0:\n",
        "            raise ValueError(\"Cannot divide by zero!\")\n",
        "        return x / y"
      ]
    }
  ]
}