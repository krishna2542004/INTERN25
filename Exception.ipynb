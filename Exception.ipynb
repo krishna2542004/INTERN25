{
  "nbformat": 4,
  "nbformat_minor": 0,
  "metadata": {
    "colab": {
      "provenance": [],
      "authorship_tag": "ABX9TyOnqusrnook8wfCQA2TRiey",
      "include_colab_link": true
    },
    "kernelspec": {
      "name": "python3",
      "display_name": "Python 3"
    },
    "language_info": {
      "name": "python"
    }
  },
  "cells": [
    {
      "cell_type": "markdown",
      "metadata": {
        "id": "view-in-github",
        "colab_type": "text"
      },
      "source": [
        "<a href=\"https://colab.research.google.com/github/krishna2542004/INTERN25/blob/main/Exception.ipynb\" target=\"_parent\"><img src=\"https://colab.research.google.com/assets/colab-badge.svg\" alt=\"Open In Colab\"/></a>"
      ]
    },
    {
      "cell_type": "code",
      "execution_count": null,
      "metadata": {
        "colab": {
          "base_uri": "https://localhost:8080/"
        },
        "id": "RQod1eEqxKxo",
        "outputId": "8f78f576-f8ad-41b1-d181-d96da086c379"
      },
      "outputs": [
        {
          "output_type": "stream",
          "name": "stdout",
          "text": [
            "Enter numerator: 25\n",
            "Enter denominator: 5\n",
            "Result: 5.0\n",
            "Division operation completed.\n"
          ]
        }
      ],
      "source": [
        "try:\n",
        "    a = int(input(\"Enter numerator: \"))\n",
        "    b = int(input(\"Enter denominator: \"))\n",
        "    result = a / b\n",
        "except ZeroDivisionError:\n",
        "    print(\"Error: Cannot divide by zero!\")\n",
        "else:\n",
        "    print(\"Result:\", result)\n",
        "finally:\n",
        "    print(\"Division operation completed.\")\n"
      ]
    },
    {
      "cell_type": "code",
      "source": [
        "try:\n",
        "    a = int(input(\"Enter numerator: \"))\n",
        "    b = int(input(\"Enter denominator: \"))\n",
        "    result = a / b\n",
        "except ValueError:\n",
        "    print(\"Error: Please enter valid numbers only!\")\n",
        "except ZeroDivisionError:\n",
        "    print(\"Error: Division by zero is not allowed!\")\n",
        "else:\n",
        "    print(\"Division successful! Result:\", result)\n",
        "finally:\n",
        "    print(\"Program finished (finally block).\")\n"
      ],
      "metadata": {
        "colab": {
          "base_uri": "https://localhost:8080/"
        },
        "id": "_OVUygrAxbLj",
        "outputId": "a578e04a-3682-44b9-8ca1-7042f08235d7"
      },
      "execution_count": null,
      "outputs": [
        {
          "output_type": "stream",
          "name": "stdout",
          "text": [
            "Enter numerator: 32\n",
            "Enter denominator: 4.3\n",
            "Error: Please enter valid numbers only!\n",
            "Program finished (finally block).\n"
          ]
        }
      ]
    },
    {
      "cell_type": "code",
      "source": [
        "try:\n",
        "    f = open(\"output.txt\", \"w\")\n",
        "    f.write(\"Learning exception handling in Python.\\n\")\n",
        "except Exception as e:\n",
        "    print(\"Error while writing file:\", e)\n",
        "else:\n",
        "    print(\"File written successfully!\")\n",
        "finally:\n",
        "    f.close()\n",
        "    print(\"File closed (finally block executed).\")\n"
      ],
      "metadata": {
        "colab": {
          "base_uri": "https://localhost:8080/"
        },
        "id": "_XLwyG-FxpIV",
        "outputId": "2edf3aed-3291-4cdc-9763-eb1aee88bac0"
      },
      "execution_count": null,
      "outputs": [
        {
          "output_type": "stream",
          "name": "stdout",
          "text": [
            "File written successfully!\n",
            "File closed (finally block executed).\n"
          ]
        }
      ]
    }
  ]
}